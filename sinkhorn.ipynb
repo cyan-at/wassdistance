{
 "cells": [
  {
   "cell_type": "markdown",
   "metadata": {},
   "source": [
    "# Approximating Wasserstein distances with PyTorch\n",
    "\n",
    "Many problems in machine learning deal with the idea of making two probability distributions to be as close as possible. In the simpler case where we only have observed variables $\\mathbf{x}$ (say, images of cats) coming from an unknown distribution $p(\\mathbf{x})$, we'd like to find a model $q(\\mathbf{x}\\vert\\theta)$ (like a neural network) that is a good approximation of $p(\\mathbf{x})$. It can be shown<a href=\"#fn1\" id=\"fr1\"><sup>1</sup></a> that minimizing $\\text{KL}(p\\Vert q)$ is equivalent to minimizing the negative log-likelihood, which is what we usually do when training a classifier, for example. In the case of the <a href=\"https://dfdazac.github.io/01-vae.html\" target=_blank>Variational Autoencoder</a>, we want the approximate posterior to be close to some prior distribution, which we achieve, again, by minimizing the KL divergence between them.\n",
    "\n",
    "In spite of its wide use, there are some cases where the KL divergence simply can't be applied. Consider the following discrete distributions:\n",
    "\n",
    "![](img/discrete.png)\n",
    "\n",
    "The KL divergence assumes that the two distributions share the same support (that is, they are defined in the same set of points), so we can't calculate it for the example above. This and other computational aspects motivate the search for a better suited method to calculate how different two distributions are.\n",
    "\n",
    "In this post I will\n",
    "\n",
    "- give a brief introduction to the optimal transport problem,\n",
    "- describe the Sinkhorn iterations as an approximation to the solution,\n",
    "- calculate Sinkhorn distances using PyTorch,\n",
    "- describe an extension of the implementation to calculate distances of mini-batches\n",
    "\n",
    "## Moving probability masses\n",
    "\n",
    "Let's think of discrete probability distributions as point masses scattered across the space. We could measure how much effort it would it take to move points of mass from one distribution to the other, as in this example:\n",
    "\n",
    "![](img/assignment.png)\n",
    "\n",
    "We can then define an alternative metric as the total effort used to move all points. We can formalize this intuitive notion by first introducing a *coupling matrix* $\\mathbf{P}$ that represents how much probability mass from one point in the support of $p(x)$ is assigned to a point in the support of $q(x)$. For these uniform distributions we have that each point has a probability mass of $1/4$. If we order the points in the supports of the example from left to right, we can write the coupling matrix for the assignment shown above as:\n",
    "\n",
    "$$\n",
    "\\mathbf{P} =\n",
    "\\begin{pmatrix}\n",
    "0 & 0 & 0 & \\tfrac{1}{4}\\\\\n",
    "0 & 0 & \\tfrac{1}{4} & 0\\\\\n",
    "0 & \\tfrac{1}{4} & 0 & 0\\\\\n",
    "\\tfrac{1}{4} & 0 & 0 & 0\\\\\n",
    "\\end{pmatrix}\n",
    "$$\n",
    "\n",
    "That is, mass in point 1 in the support of $p(x)$ gets assigned to point 4 in the support of $q(x)$, point 2 to point 3, and so on, as shown with the arrows above.\n",
    "\n",
    "In order to know how much effort the assignment takes, we introduce a second matrix, known as the *distance matrix*. Each entry $\\mathbf{C}_{ij}$ in this matrix contains the cost of moving point $i$ in the support of $p(x)$ to point $j$ in the support of $q(x)$. One way to define this cost is to use the Euclidian distance between points, also known as the *ground distance*. If we assume the supports for $p(x)$ and $q(x)$ are $\\lbrace 1,2,3,4\\rbrace$ and $\\lbrace 5,6,7, 8\\rbrace$, respectively, the cost matrix is:\n",
    "\n",
    "$$\n",
    "\\mathbf{C} =\n",
    "\\begin{pmatrix}\n",
    "4 & 5 & 6 & 7 \\\\\n",
    "3 & 4 & 5 & 6 \\\\\n",
    "2 & 3 & 4 & 5 \\\\\n",
    "1 & 2 & 3 & 4\n",
    "\\end{pmatrix}\n",
    "$$\n",
    "\n",
    "With these definitions, the total cost can be calculated as the <a href=\"https://en.wikipedia.org/wiki/Frobenius_inner_product\" target=_blank>Frobenius inner product</a> between $\\mathbf{P}$ and $\\mathbf{C}$:\n",
    "\n",
    "$$\n",
    "\\langle\\mathbf{C},\\mathbf{P} \\rangle = \\sum_{ij}\\mathbf{C}_{ij}\\mathbf{P}_{ij}\n",
    "$$\n",
    "\n",
    "As you might have noticed, there are actually multiple ways to move points from one support to the other, each one yielding different costs. The one above is just one example, but we are interested in the assignment that results in the smaller cost. This is the problem of **optimal transport** between two discrete distributions, and its solution is the lowest cost $\\text{L}_\\mathbf{C}$ *over all possible coupling matrices*. This last condition introduces a constraint in the problem, because not any matrix is a valid coupling matrix. For a coupling matrix, all its columns must add to a vector containing the probability masses for $p(x)$, and all its rows must add to a vector with the probability masses for $q(x)$. In our example, these vectors contain 4 elements, all with a value of $1/4$. More generally, we can let these two vectors be $\\mathbf{a}$ and $\\mathbf{b}$, respectively, so the optimal transport problem can be written as:\n",
    "\n",
    "$$\n",
    "\\begin{align*}\n",
    "&\\text{L}_\\mathbf{C} = \\min_{\\mathbf{P}}\\langle\\mathbf{C},\\mathbf{P}\\rangle \\\\\n",
    "\\text{subject to } &\\mathbf{P}\\mathbf{1} = \\mathbf{a} \\\\\n",
    "&\\mathbf{P}^{\\top}\\mathbf{1} = \\mathbf{b}\n",
    "\\end{align*}\n",
    "$$\n",
    "\n",
    "When the distance matrix is based on a valid <a href=\"https://en.wikipedia.org/wiki/Metric_(mathematics)\">distance function</a>, the minimum cost is known as the **Wasserstein distance**.\n",
    "\n",
    "There is a large body of work regarding the solution of this problem and its extensions to continuous probability distributions. For a more formal and comprehensive account, I recommend checking the book <a href=\"https://arxiv.org/abs/1803.00567\" target=_blank>Computational Optimal Transport</a> by Gabriel Peyré and Marco Cuturi, which is the main source for this post. \n",
    "\n",
    "The bottom line here is that we have framed the problem of finding the distance between two distributions as finding the optimal coupling matrix. It turns out that there is a small modification that allows us to solve this problem in an iterative and differentiable way, that will work well with automatic differentiation libraries for deep learning, like PyTorch and TensorFlow.\n",
    "\n",
    "## Entropic regularization and the Sinkhorn iterations\n",
    "\n",
    "We start by defining the *entropy* of a matrix:\n",
    "\n",
    "$$\n",
    "H(\\mathbf{P}) = -\\sum_{ij}\\mathbf{P}_{ij}\\log\\mathbf{P}_{ij}\n",
    "$$\n",
    "\n",
    "As in the notion of <a href=\"https://en.wikipedia.org/wiki/Entropy_(information_theory)\" target=_blank>entropy of a distribution in information theory</a>, a matrix with a low entropy will be sparser, with most of its non-zero values concentrated in a few points. Conversely, a matrix with high entropy will be smoother, with the maximum entropy achieved with a uniform distribution of values across its elements. With a regularization coefficient $\\varepsilon​$, we can include this in the optimal transport problem to encourage smoother coupling matrices:\n",
    "\n",
    "$$\n",
    "\\begin{align*}\n",
    "&\\text{L}_\\mathbf{C} = \\min_{\\mathbf{P}}\\langle\\mathbf{C},\\mathbf{P}\\rangle -\\varepsilon H(\\mathbf{P})\\\\\n",
    "\\text{subject to } &\\mathbf{P}\\mathbf{1} = \\mathbf{a} \\\\\n",
    "&\\mathbf{P}^{\\top}\\mathbf{1} = \\mathbf{b}\n",
    "\\end{align*}\n",
    "$$\n",
    "\n",
    "By making $\\varepsilon$ higher, the resulting coupling matrix will be smoother, and as $\\varepsilon$ goes to zero it will be sparser, with the solution being close to that of the original optimal transport problem.\n",
    "\n",
    "By introducing this entropic regularization, the optimization problem is made convex and can be solved iteratively using the *Sinkhorn iterations*<a href=\"#fn2\" id=\"fr2\"><sup>2</sup></a>. The solution can be written in the form $\\mathbf{P} = \\text{diag}(\\mathbf{u})\\mathbf{K}\\text{diag}(\\mathbf{v})$, and the iterations alternate between updating $\\mathbf{u}$ and $\\mathbf{v}$:\n",
    "\n",
    "$$\n",
    "\\begin{align*}\n",
    "\\mathbf{u}^{(k+1)} &= \\frac{\\mathbf{a}}{\\mathbf{K}\\mathbf{v}^{(k)}}\\\\\n",
    "\\mathbf{v}^{(k+1)} &= \\frac{\\mathbf{b}}{\\mathbf{K}^{\\top}\\mathbf{u}^{(k+1)}}\n",
    "\\end{align*}\n",
    "$$\n",
    "\n",
    "where $\\mathbf{K}$ is a kernel matrix calculated with $\\mathbf{C}$. Since these iterations are solving a regularized version of the original problem, the corresponding Wasserstein distance that results is sometimes called the Sinkhorn distance. The iterations form a sequence of linear operations, so for deep learning models it is straightforward to *backpropagate* through these iterations.\n",
    "\n",
    "## Sinkhorn iterations with PyTorch\n",
    "\n",
    "There are additional steps that can be added to the Sinkhorn iterations in order to improve its convergence and stability properties. We can find a clean implementation of these by Gabriel Peyrè on <a href=\"https://github.com/gpeyre/SinkhornAutoDiff\" target=_blank>GitHub</a>. Let's test it first with a simple example.\n",
    "\n",
    "For this, we will work now with discrete uniform distributions in 2D space (instead of 1D space as above). In this case we are moving probability masses across a plane. Let's define two simple distributions:"
   ]
  },
  {
   "cell_type": "code",
   "execution_count": 37,
   "metadata": {},
   "outputs": [],
   "source": [
    "%matplotlib inline\n",
    "import matplotlib.pyplot as plt\n",
    "from matplotlib import cm\n",
    "import numpy as np\n",
    "np.random.seed(42)\n",
    "\n",
    "import torch\n",
    "torch.set_printoptions(precision=3)\n",
    "\n",
    "from layers import SinkhornDistance\n",
    "\n",
    "from sklearn.datasets import make_moons\n",
    "\n",
    "from scipy.stats import multivariate_normal\n",
    "from scipy.spatial.distance import cdist\n",
    "\n",
    "from common import *\n",
    "\n",
    "cuda0 = torch.device('cuda:0')\n",
    "cpu = torch.device('cpu')\n",
    "device = cpu"
   ]
  },
  {
   "cell_type": "code",
   "execution_count": 41,
   "metadata": {},
   "outputs": [
    {
     "name": "stdout",
     "output_type": "stream",
     "text": [
      "[[-5.  -5. ]\n",
      " [-2.5 -5. ]\n",
      " [ 0.  -5. ]\n",
      " [ 2.5 -5. ]\n",
      " [ 5.  -5. ]\n",
      " [-5.  -2.5]\n",
      " [-2.5 -2.5]\n",
      " [ 0.  -2.5]\n",
      " [ 2.5 -2.5]\n",
      " [ 5.  -2.5]\n",
      " [-5.   0. ]\n",
      " [-2.5  0. ]\n",
      " [ 0.   0. ]\n",
      " [ 2.5  0. ]\n",
      " [ 5.   0. ]\n",
      " [-5.   2.5]\n",
      " [-2.5  2.5]\n",
      " [ 0.   2.5]\n",
      " [ 2.5  2.5]\n",
      " [ 5.   2.5]\n",
      " [-5.   5. ]\n",
      " [-2.5  5. ]\n",
      " [ 0.   5. ]\n",
      " [ 2.5  5. ]\n",
      " [ 5.   5. ]]\n"
     ]
    }
   ],
   "source": [
    "d = 2\n",
    "N = 5\n",
    "\n",
    "M = N**d\n",
    "\n",
    "linspaces = []\n",
    "for i in range(d):\n",
    "    linspaces.append(np.transpose(np.linspace(state_min, state_max, N)))\n",
    "\n",
    "meshes = np.meshgrid(*linspaces)\n",
    "mesh_vectors = []\n",
    "for i in range(d):\n",
    "    mesh_vectors.append(meshes[i].reshape(M,1))\n",
    "state = np.hstack(tuple(mesh_vectors))\n",
    "state_tensor = torch.tensor(state, dtype=torch.float, requires_grad=True)\n",
    "\n",
    "print(state)"
   ]
  },
  {
   "cell_type": "code",
   "execution_count": 112,
   "metadata": {},
   "outputs": [
    {
     "name": "stdout",
     "output_type": "stream",
     "text": [
      "tensor([8.688e-44, 2.679e-31, 3.057e-24, 1.300e-22, 2.060e-26, 2.679e-31,\n",
      "        8.202e-19, 9.359e-12, 3.979e-10, 6.306e-14, 3.057e-24, 9.359e-12,\n",
      "        1.068e-04, 4.540e-03, 7.195e-07, 1.300e-22, 3.979e-10, 4.540e-03,\n",
      "        1.931e-01, 3.059e-05, 2.060e-26, 6.306e-14, 7.195e-07, 3.059e-05,\n",
      "        4.848e-09], requires_grad=True)\n",
      "Sinkhorn distance: 3.920\n",
      "rho0_tensor.grad tensor([-23.098, -32.149, -22.916, -13.684,  -9.192, -32.149, -41.576, -30.645,\n",
      "        -20.602,  -0.457, -22.916, -30.645, -19.638,  -9.591,  10.504, -13.684,\n",
      "        -20.602,  -9.591,   0.455,  20.568,  -9.192,  -0.457,  10.504,  20.568,\n",
      "         38.648])\n"
     ]
    }
   ],
   "source": [
    "rv0 = multivariate_normal([mu_0]*d, sigma_0 * np.eye(d))\n",
    "rvT = multivariate_normal([mu_T]*d, sigma_T * np.eye(d))\n",
    "\n",
    "rho0=rv0.pdf(state)\n",
    "rho0 = np.float32(rho0)\n",
    "\n",
    "rhoT= rvT.pdf(state)\n",
    "rhoT = np.float32(rhoT)\n",
    "\n",
    "rho0_tensor = torch.from_numpy(\n",
    "    rho0,\n",
    ").requires_grad_(True)\n",
    "rho0_tensor = rho0_tensor.to(device)\n",
    "\n",
    "rhoT_tensor = torch.from_numpy(\n",
    "    rhoT\n",
    ").requires_grad_(False)\n",
    "rhoT_tensor = rhoT_tensor.to(device)\n",
    "\n",
    "print(rho0_tensor)\n",
    "\n",
    "sinkhorn = SinkhornDistance(eps=2.0, max_iter=100)\n",
    "\n",
    "C = sinkhorn._cost_matrix(state_tensor, state_tensor)\n",
    "# C = cdist(state, state, 'sqeuclidean')\n",
    "\n",
    "dist, P, C = sinkhorn(C, rho0_tensor, rhoT_tensor)\n",
    "print(\"Sinkhorn distance: {:.3f}\".format(dist.item()))\n",
    "\n",
    "dist.backward()\n",
    "print(\"rho0_tensor.grad\", rho0_tensor.grad)"
   ]
  },
  {
   "cell_type": "code",
   "execution_count": 108,
   "metadata": {},
   "outputs": [
    {
     "name": "stdout",
     "output_type": "stream",
     "text": [
      "tensor([1.212e-09, 4.593e-07, 7.648e-06, 5.596e-06, 1.799e-07, 4.593e-07,\n",
      "        1.741e-04, 2.899e-03, 2.121e-03, 6.817e-05, 7.648e-06, 2.899e-03,\n",
      "        4.827e-02, 3.531e-02, 1.135e-03, 5.596e-06, 2.121e-03, 3.531e-02,\n",
      "        2.584e-02, 8.305e-04, 1.799e-07, 6.817e-05, 1.135e-03, 8.305e-04,\n",
      "        2.670e-05], requires_grad=True)\n",
      "Sinkhorn distance: 13.906\n",
      "rho0_tensor.grad tensor([-395.457, -344.642, -189.453,  -41.212,  256.589, -344.440, -293.029,\n",
      "        -137.697,    8.326,  -54.100, -189.422, -137.687,   17.665,    8.546,\n",
      "          -5.617, -152.439, -112.315,    8.095,   -8.400,  -51.607, -192.245,\n",
      "        -152.441,  -32.040,  -53.862, -172.404])\n"
     ]
    }
   ],
   "source": [
    "rv0 = multivariate_normal([1]*d, 2.0 * np.eye(d))\n",
    "rvT = multivariate_normal([0]*d, sigma_T * np.eye(d))\n",
    "\n",
    "rho0=rv0.pdf(state)\n",
    "rho0 = np.float32(rho0)\n",
    "\n",
    "rhoT=rvT.pdf(state)\n",
    "rhoT = np.random.uniform(0,1,state.shape[0])\n",
    "rhoT /= np.sum(rhoT)\n",
    "rhoT = np.float32(rhoT)\n",
    "\n",
    "rho0_tensor = torch.from_numpy(\n",
    "    rho0,\n",
    ").requires_grad_(True)\n",
    "rho0_tensor = rho0_tensor.to(device)\n",
    "\n",
    "rhoT_tensor = torch.from_numpy(\n",
    "    rhoT\n",
    ").requires_grad_(False)\n",
    "rhoT_tensor = rhoT_tensor.to(device)\n",
    "\n",
    "print(rho0_tensor)\n",
    "\n",
    "sinkhorn = SinkhornDistance(eps=0.1, max_iter=100)\n",
    "\n",
    "C = sinkhorn._cost_matrix(state_tensor, state_tensor)\n",
    "# C = cdist(state, state, 'sqeuclidean')\n",
    "\n",
    "dist, P, C = sinkhorn(C, rho0_tensor, rhoT_tensor)\n",
    "print(\"Sinkhorn distance: {:.3f}\".format(dist.item()))\n",
    "\n",
    "dist.backward()\n",
    "print(\"rho0_tensor.grad\", rho0_tensor.grad)"
   ]
  },
  {
   "cell_type": "code",
   "execution_count": null,
   "metadata": {},
   "outputs": [],
   "source": []
  },
  {
   "cell_type": "code",
   "execution_count": 103,
   "metadata": {},
   "outputs": [
    {
     "data": {
      "image/png": "[encoded data removed]",
      "text/plain": [
       "<Figure size 1080x1080 with 2 Axes>"
      ]
     },
     "metadata": {
      "needs_background": "light"
     },
     "output_type": "display_data"
    }
   ],
   "source": [
    "plt.rcParams['figure.figsize'] = [15, 15]\n",
    "plt.imshow(C.detach().numpy())\n",
    "# plt.imshow(C)\n",
    "plt.title('Distance matrix')\n",
    "plt.colorbar();"
   ]
  },
  {
   "cell_type": "code",
   "execution_count": 113,
   "metadata": {},
   "outputs": [
    {
     "data": {
      "image/png": "[encoded data removed]",
      "text/plain": [
       "<Figure size 1080x1080 with 1 Axes>"
      ]
     },
     "metadata": {
      "needs_background": "light"
     },
     "output_type": "display_data"
    }
   ],
   "source": [
    "plt.imshow(P.detach().numpy())\n",
    "plt.title('Coupling matrix');\n",
    "\n",
    "# plt.savefig('p_opt.png', dpi=300)"
   ]
  },
  {
   "cell_type": "code",
   "execution_count": 114,
   "metadata": {},
   "outputs": [
    {
     "name": "stdout",
     "output_type": "stream",
     "text": [
      "tensor(0., grad_fn=<MinBackward1>)\n",
      "tensor(0.305, grad_fn=<MaxBackward1>)\n",
      "torch.Size([25, 25])\n"
     ]
    },
    {
     "data": {
      "image/png": "[encoded data removed]",
      "text/plain": [
       "<Figure size 1080x1080 with 1 Axes>"
      ]
     },
     "metadata": {
      "needs_background": "light"
     },
     "output_type": "display_data"
    }
   ],
   "source": [
    "print(P.min())\n",
    "print(P.max())\n",
    "print(P.shape)\n",
    "\n",
    "N = 5\n",
    "# P_matrix = P.reshape((N, N))\n",
    "\n",
    "plt.contourf(\n",
    "    meshes[0],\n",
    "    meshes[1],\n",
    "    rhoT.reshape(N, N),\n",
    "    cmap=cm.jet, alpha=0.5)\n",
    "\n",
    "plt.contourf(\n",
    "    meshes[0],\n",
    "    meshes[1],\n",
    "    rho0.reshape(N, N),\n",
    "    cmap=cm.jet, alpha=0.5)\n",
    "\n",
    "\n",
    "def show_assignments(state_a, state_b, P): \n",
    "    np_p = P.detach().numpy()\n",
    "    norm_P = np_p/np_p.max()\n",
    "    for i in range(state_a.shape[0]):\n",
    "        for j in range(state_b.shape[0]):\n",
    "            plt.arrow(\n",
    "                state_a[i, 0],\n",
    "                state_a[i, 1],\n",
    "                state_b[j, 0]-state_a[i, 0],\n",
    "                state_b[j, 1]-state_a[i, 1],\n",
    "                alpha=norm_P[i,j].item())\n",
    "    plt.title('Assignments')\n",
    "#     plt.scatter(a[:, 0], a[:, 1])\n",
    "#     plt.scatter(b[:, 0], b[:, 1])\n",
    "    plt.axis('off')\n",
    "\n",
    "show_assignments(state, state, P)\n",
    "\n",
    "plt.savefig('assignment_rho0_rhoT.png', dpi=300)\n",
    "plt.show()"
   ]
  },
  {
   "cell_type": "code",
   "execution_count": null,
   "metadata": {},
   "outputs": [],
   "source": [
    "n_points = 5\n",
    "a = np.array([[i, 0, 0] for i in range(n_points)])\n",
    "b = np.array([[i, 1, 0] for i in range(n_points)])\n",
    "\n",
    "x = torch.tensor(a, dtype=torch.float, requires_grad=True)\n",
    "y = torch.tensor(b, dtype=torch.float, requires_grad=False)\n",
    "\n",
    "print(x.shape)\n",
    "\n",
    "plt.figure(figsize=(6, 3))\n",
    "plt.scatter(a[:, 0], a[:, 1], label='supp($p(x)$)')\n",
    "plt.scatter(b[:, 0], b[:, 1], label='supp($q(x)$)')\n",
    "plt.legend();"
   ]
  },
  {
   "cell_type": "markdown",
   "metadata": {},
   "source": [
    "We can easily see that the optimal transport corresponds to assigning each point in the support of $p(x)$ to the point right above in the support of $q(x)$. For all points, the distance is 1, and since the distributions are uniform, the mass moved per point is 1/5. Therefore, the Wasserstein distance is $5\\times\\tfrac{1}{5} = 1$. Let's compute this now with the Sinkhorn iterations."
   ]
  },
  {
   "cell_type": "code",
   "execution_count": null,
   "metadata": {},
   "outputs": [],
   "source": [
    "sinkhorn = SinkhornDistance(eps=0.1, max_iter=100)\n",
    "\n",
    "C = sinkhorn._cost_matrix(x, y)\n",
    "\n",
    "x_points = x.shape[-2]\n",
    "y_points = y.shape[-2]\n",
    "if x.dim() == 2:\n",
    "    batch_size = 1\n",
    "else:\n",
    "    batch_size = x.shape[0]\n",
    "\n",
    "# both marginals are fixed with equal weights\n",
    "mu = torch.empty(batch_size, x_points, dtype=torch.float,\n",
    "    requires_grad=False)\\\n",
    "    .fill_(1.0 / x_points).squeeze()\n",
    "nu = torch.empty(batch_size, y_points, dtype=torch.float,\n",
    "    requires_grad=False)\\\n",
    "    .fill_(1.0 / y_points).squeeze()\n",
    "\n",
    "print('mu', mu.shape)\n",
    "print('nu', nu)\n",
    "\n",
    "dist, P, C = sinkhorn(C, mu, nu)\n",
    "print(\"Sinkhorn distance: {:.3f}\".format(dist.item()))"
   ]
  },
  {
   "cell_type": "markdown",
   "metadata": {},
   "source": [
    "Just as we calculated. Now, it would be very interesting to check the matrices returned by the `sinkhorn()` method: `P`, the calculated coupling matrix, and `C`, the distance matrix. Let's begin with the distance matrix:"
   ]
  },
  {
   "cell_type": "code",
   "execution_count": null,
   "metadata": {},
   "outputs": [],
   "source": [
    "fig1 = plt.figure()\n",
    "ax1=fig1.gca(projection='3d')\n",
    "sc1=ax1.scatter(mesh_vectors[0], mesh_vectors[1], mesh_vectors[2], c=v, cmap=plt.hot())\n",
    "plt.colorbar(sc1)\n",
    "ax1.set_xlabel('X')\n",
    "ax1.set_ylabel('Y')\n",
    "ax1.set_zlabel('Z')"
   ]
  },
  {
   "cell_type": "code",
   "execution_count": null,
   "metadata": {},
   "outputs": [],
   "source": [
    "plt.imshow(C.detach().numpy())\n",
    "# plt.imshow(C)\n",
    "plt.title('Distance matrix')\n",
    "plt.colorbar();"
   ]
  },
  {
   "cell_type": "markdown",
   "metadata": {},
   "source": [
    "The entry `C[0, 0]` shows how moving the mass in $(0, 0)$ to the point $(0, 1)$ incurs in  a cost of 1. At the other end of the row, the entry `C[0, 4]` contains the cost for moving the point in $(0, 0)$ to the point in $(4, 1)$. This is the larger cost in the matrix:\n",
    "\n",
    "$$\n",
    "(4 - 0)^2 + (1 - 0)^2 = 17\n",
    "$$\n",
    "\n",
    "since we are using the squared $\\ell^2$-norm for the distance matrix.\n",
    "\n",
    "Let's now take a look at the calculated coupling matrix:"
   ]
  },
  {
   "cell_type": "code",
   "execution_count": null,
   "metadata": {},
   "outputs": [],
   "source": [
    "sinkhorn2 = SinkhornDistance(eps=1, max_iter=100, reduction=None)\n",
    "\n",
    "\n",
    "\n",
    "print(\"Sinkhorn distance: {:.3f}\".format(dist.item()))\n",
    "\n",
    "plt.imshow(P.detach().numpy())\n",
    "plt.title('Coupling matrix');"
   ]
  },
  {
   "cell_type": "markdown",
   "metadata": {},
   "source": [
    "This readily shows us how the algorithm effectively found that the optimal coupling is the same one we determined by inspection above.\n",
    "\n",
    "So far we have used a regularization coefficient of 0.1. What happens if we increase it to 1?"
   ]
  },
  {
   "cell_type": "code",
   "execution_count": null,
   "metadata": {},
   "outputs": [],
   "source": [
    "dist.backward()\n",
    "print(x.grad)"
   ]
  },
  {
   "cell_type": "markdown",
   "metadata": {},
   "source": [
    "As we discussed, increasing $\\varepsilon$ has the effect of increasing the entropy of the coupling matrix. Here we see how $\\mathbf{P}$ has become smoother, but also that there is a detrimental effect on the calculated distance, and the approximation to the true Wasserstein distance worsens.\n",
    "\n",
    "It's also interesting to visualize the assignments in the space of the supports:"
   ]
  },
  {
   "cell_type": "code",
   "execution_count": null,
   "metadata": {},
   "outputs": [],
   "source": [
    "def show_assignments(a, b, P):    \n",
    "    norm_P = P/P.max()\n",
    "    for i in range(a.shape[0]):\n",
    "        for j in range(b.shape[0]):\n",
    "            plt.arrow(\n",
    "                a[i, 0],\n",
    "                a[i, 1],\n",
    "                b[j, 0]-a[i, 0],\n",
    "                b[j, 1]-a[i, 1],\n",
    "                alpha=norm_P[i,j].item())\n",
    "    plt.title('Assignments')\n",
    "    plt.scatter(a[:, 0], a[:, 1])\n",
    "    plt.scatter(b[:, 0], b[:, 1])\n",
    "    plt.axis('off')\n",
    "\n",
    "show_assignments(a, b, P)"
   ]
  },
  {
   "cell_type": "markdown",
   "metadata": {},
   "source": [
    "Let's do this for a more interesting distribution: the Moons dataset."
   ]
  },
  {
   "cell_type": "code",
   "execution_count": null,
   "metadata": {},
   "outputs": [],
   "source": [
    "\n",
    "X, Y = make_moons(n_samples = 30)\n",
    "a = X[Y==0]\n",
    "b = X[Y==1]\n",
    "\n",
    "x = torch.tensor(a, dtype=torch.float, requires_grad=True)\n",
    "y = torch.tensor(b, dtype=torch.float, requires_grad=False)\n",
    "\n",
    "sinkhorn = SinkhornDistance(eps=0.1, max_iter=100)\n",
    "dist, P, C = sinkhorn(x, y)\n",
    "print(\"Sinkhorn distance: {:.3f}\".format(dist.item()))\n",
    "show_assignments(a, b, P)\n",
    "\n",
    "dist.backward()\n",
    "\n",
    "print(x.grad)"
   ]
  },
  {
   "cell_type": "markdown",
   "metadata": {},
   "source": [
    "## Mini-batch Sinkhorn distances\n",
    "\n",
    "In deep learning, we are usually interested in working with mini-batches to speed up computations. The Sinkhorn iterations can be adapted to this setting by modifying them with the additional batch dimension. After adding this change to the implementation (code <a href=\"https://github.com/dfdazac/wassdistance/blob/master/layers.py\" target=_blank>here</a>), we can compute Sinkhorn distances for multiple distributions in a mini-batch. Let's do it here for another example that is easy to verify.\n",
    "\n",
    "We will compute Sinkhorn distances for 4 pairs of uniform distributions with 5 support points, separated vertically by 1 (as above), 2, 3, and 4 units. This way, the Wasserstein distances between them will be 1, 4, 9 and 16, respectively."
   ]
  },
  {
   "cell_type": "code",
   "execution_count": null,
   "metadata": {},
   "outputs": [],
   "source": [
    "n = 5\n",
    "batch_size = 4\n",
    "a = np.array([[[i, 0] for i in range(n)] for b in range(batch_size)])\n",
    "b = np.array([[[i, b + 1] for i in range(n)] for b in range(batch_size)])\n",
    "\n",
    "# Wrap with torch tensors\n",
    "x = torch.tensor(a, dtype=torch.float)\n",
    "y = torch.tensor(b, dtype=torch.float)\n",
    "\n",
    "sinkhorn = SinkhornDistance(eps=0.1, max_iter=100)\n",
    "dist, P, C = sinkhorn(x, y)\n",
    "print(\"Sinkhorn distances: \", dist)"
   ]
  },
  {
   "cell_type": "markdown",
   "metadata": {},
   "source": [
    "It works! Note also that now `P` and `C` are 3D tensors, containing the coupling and distance matrices for each pair of distributions in the mini-batch:"
   ]
  },
  {
   "cell_type": "code",
   "execution_count": null,
   "metadata": {},
   "outputs": [],
   "source": [
    "print('P.shape = {}'.format(P.shape))\n",
    "print('C.shape = {}'.format(C.shape))"
   ]
  },
  {
   "cell_type": "markdown",
   "metadata": {},
   "source": [
    "## Conclusion\n",
    "\n",
    "The notion of the Wasserstein distance between distributions and its calculation via the Sinkhorn iterations open up many possibilities. The framework not only offers an alternative to distances like the KL divergence, but provides more flexibility during modeling, as we are no longer forced to choose a particular parametric distribution. The iterations can be executed efficiently on GPU and are fully differentiable, making it a good choice for deep learning. These advantages have been exploited in recent works in machine learning, such as autoencoders<sup>3,4</sup> and metric embedding<sup>5,6</sup>, making it promising for further applications in the field.\n",
    "\n",
    "#### Acknowledgments\n",
    "\n",
    "I'd like to thank Thomas Kipf for introducing me to the problem of optimal transport and insightful discussions; and Gabriel Peyrè for making code resources available online."
   ]
  },
  {
   "cell_type": "markdown",
   "metadata": {},
   "source": [
    "#### References\n",
    "\n",
    "<ol>\n",
    "    <li id=\"fn1\">See C. Bishop, *Pattern Recognition and Machine Learning*, section 1.6.1. <a href=\"#fr1\">↩</a></li>\n",
    "    <li id=\"fn2\">Cuturi, Marco. \"Sinkhorn distances: Lightspeed computation of optimal transport.\" Advances in neural information processing systems, 2013. <a href=\"#fr2\">↩</a></li>\n",
    "    <li>Tolstikhin, Ilya, et al. \"Wasserstein auto-encoders.\" arXiv preprint arXiv:1711.01558, 2017.</li>\n",
    "    <li>Patrini, Giorgio, et al. \"Sinkhorn AutoEncoders.\" arXiv preprint arXiv:1810.01118, 2018.</li>\n",
    "    <li>Courty, Nicolas, Rémi Flamary, and Mélanie Ducoffe. \"Learning wasserstein embeddings.\" arXiv preprint arXiv:1710.07457, 2017.</li>\n",
    "    <li>Charlie Frogner, Farzaneh Mirzazadeh, Justin Solomon. \"Learning Embeddings into Entropic Wasserstein Spaces.\" ICLR (2019).</li>\n",
    "</ol>"
   ]
  }
 ],
 "metadata": {
  "kernelspec": {
   "display_name": "Python 3",
   "language": "python",
   "name": "python3"
  },
  "language_info": {
   "codemirror_mode": {
    "name": "ipython",
    "version": 3
   },
   "file_extension": ".py",
   "mimetype": "text/x-python",
   "name": "python",
   "nbconvert_exporter": "python",
   "pygments_lexer": "ipython3",
   "version": "3.7.2"
  }
 },
 "nbformat": 4,
 "nbformat_minor": 2
}
